{
 "cells": [
  {
   "cell_type": "code",
   "execution_count": 1,
   "id": "189e011b",
   "metadata": {},
   "outputs": [
    {
     "name": "stdout",
     "output_type": "stream",
     "text": [
      "The texts are 85.18518518518519% similar, which indicates possible plagiarism.\n"
     ]
    }
   ],
   "source": [
    "def calculate_similarity(text1, text2):\n",
    "    len1 = len(text1)\n",
    "    len2 = len(text2)\n",
    "    matrix = [[0] * (len2 + 1) for _ in range(len1 + 1)]\n",
    "\n",
    "    for i in range(len1 + 1):\n",
    "        matrix[i][0] = i\n",
    "    for j in range(len2 + 1):\n",
    "        matrix[0][j] = j\n",
    "\n",
    "    for i in range(1, len1 + 1):\n",
    "        for j in range(1, len2 + 1):\n",
    "            if text1[i - 1] == text2[j - 1]:\n",
    "                matrix[i][j] = matrix[i - 1][j - 1]\n",
    "            else:\n",
    "                substitution = matrix[i - 1][j - 1] + 1\n",
    "                insertion = matrix[i][j - 1] + 1\n",
    "                deletion = matrix[i - 1][j] + 1\n",
    "                matrix[i][j] = min(substitution, insertion, deletion)\n",
    "\n",
    "    return 1 - (matrix[len1][len2] / max(len1, len2))\n",
    "\n",
    "\n",
    "def check_plagiarism(text1, text2, threshold=0.8):\n",
    "    similarity = calculate_similarity(text1, text2)\n",
    "    if similarity >= threshold:\n",
    "        return f\"The texts are {similarity*100}% similar, which indicates possible plagiarism.\"\n",
    "    else:\n",
    "        return f\"The texts are {similarity*100}% similar, which indicates no plagiarism.\"\n",
    "\n",
    "# Example usage\n",
    "document1 = \"This is a sample document.\"\n",
    "document2 = \"This is a similar document.\"\n",
    "\n",
    "result = check_plagiarism(document1, document2)\n",
    "print(result)\n"
   ]
  },
  {
   "cell_type": "code",
   "execution_count": null,
   "id": "ae05fa8f",
   "metadata": {},
   "outputs": [],
   "source": []
  }
 ],
 "metadata": {
  "kernelspec": {
   "display_name": "Python 3 (ipykernel)",
   "language": "python",
   "name": "python3"
  },
  "language_info": {
   "codemirror_mode": {
    "name": "ipython",
    "version": 3
   },
   "file_extension": ".py",
   "mimetype": "text/x-python",
   "name": "python",
   "nbconvert_exporter": "python",
   "pygments_lexer": "ipython3",
   "version": "3.11.3"
  }
 },
 "nbformat": 4,
 "nbformat_minor": 5
}
